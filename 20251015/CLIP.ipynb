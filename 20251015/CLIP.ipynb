{
 "cells": [
  {
   "cell_type": "code",
   "execution_count": null,
   "id": "7efeccb8-b3e3-44d8-9187-fc2eb17c9ce4",
   "metadata": {},
   "outputs": [],
   "source": [
    "!pip install datasets"
   ]
  },
  {
   "cell_type": "code",
   "execution_count": null,
   "id": "5d6dcc90-bfbe-4180-b172-3a5bc1b68cfb",
   "metadata": {},
   "outputs": [],
   "source": [
    "from datasets import load_dataset\n",
    "\n",
    "# Load the full dataset\n",
    "dataset = load_dataset(\"ai-lab/MBD\")\n",
    "\n",
    "# Inspect the splits\n",
    "print(dataset)\n",
    "\n",
    "# Peek at the first record\n",
    "print(dataset[\"train\"][0])"
   ]
  },
  {
   "cell_type": "code",
   "execution_count": null,
   "id": "da81b7c9-86f3-4fb3-9044-e94eaac3f50e",
   "metadata": {},
   "outputs": [],
   "source": [
    "import pandas as pd\n",
    "\n",
    "df = pd.DataFrame(dataset[\"train\"])\n",
    "print(df.head())"
   ]
  },
  {
   "cell_type": "code",
   "execution_count": null,
   "id": "8ca22f96-c021-40cb-bd60-ed70ba3e0501",
   "metadata": {},
   "outputs": [],
   "source": [
    "for record in dataset[\"train\"]:\n",
    "    print(record.keys())   # fields available\n",
    "    break"
   ]
  },
  {
   "cell_type": "code",
   "execution_count": null,
   "id": "b07a926b-3a29-4d26-9d24-54c8eda3b50d",
   "metadata": {},
   "outputs": [],
   "source": [
    "df.to_csv(\"mbd_train.csv\", index=False)"
   ]
  },
  {
   "cell_type": "code",
   "execution_count": null,
   "id": "4ddedb48-8812-4d45-b594-a7bcfa5691e6",
   "metadata": {},
   "outputs": [],
   "source": []
  },
  {
   "cell_type": "code",
   "execution_count": null,
   "id": "92da0d31-f5ab-4437-a302-e053abc4961c",
   "metadata": {},
   "outputs": [],
   "source": []
  },
  {
   "cell_type": "code",
   "execution_count": null,
   "id": "a7966c6f-0fa0-4add-83a9-6beb184b5477",
   "metadata": {},
   "outputs": [],
   "source": []
  }
 ],
 "metadata": {
  "kernelspec": {
   "display_name": "Python 3 (ipykernel)",
   "language": "python",
   "name": "python3"
  },
  "language_info": {
   "codemirror_mode": {
    "name": "ipython",
    "version": 3
   },
   "file_extension": ".py",
   "mimetype": "text/x-python",
   "name": "python",
   "nbconvert_exporter": "python",
   "pygments_lexer": "ipython3",
   "version": "3.10.18"
  }
 },
 "nbformat": 4,
 "nbformat_minor": 5
}
